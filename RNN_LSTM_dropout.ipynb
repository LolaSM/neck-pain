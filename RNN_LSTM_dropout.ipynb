{
  "nbformat": 4,
  "nbformat_minor": 0,
  "metadata": {
    "colab": {
      "provenance": [],
      "gpuType": "T4",
      "authorship_tag": "ABX9TyOplXe8UjhP+TJ2ezqUmPYN",
      "include_colab_link": true
    },
    "kernelspec": {
      "name": "python3",
      "display_name": "Python 3"
    },
    "language_info": {
      "name": "python"
    },
    "accelerator": "GPU"
  },
  "cells": [
    {
      "cell_type": "markdown",
      "metadata": {
        "id": "view-in-github",
        "colab_type": "text"
      },
      "source": [
        "<a href=\"https://colab.research.google.com/github/LolaSM/neck-pain/blob/main/RNN_LSTM_dropout.ipynb\" target=\"_parent\"><img src=\"https://colab.research.google.com/assets/colab-badge.svg\" alt=\"Open In Colab\"/></a>"
      ]
    },
    {
      "cell_type": "code",
      "execution_count": 1,
      "metadata": {
        "colab": {
          "base_uri": "https://localhost:8080/"
        },
        "id": "578CSqca6nOS",
        "outputId": "e08614ff-d12b-49a0-ebd4-d12ac7853444"
      },
      "outputs": [
        {
          "output_type": "stream",
          "name": "stdout",
          "text": [
            "Tue Jul  1 18:36:19 2025       \n",
            "+-----------------------------------------------------------------------------------------+\n",
            "| NVIDIA-SMI 550.54.15              Driver Version: 550.54.15      CUDA Version: 12.4     |\n",
            "|-----------------------------------------+------------------------+----------------------+\n",
            "| GPU  Name                 Persistence-M | Bus-Id          Disp.A | Volatile Uncorr. ECC |\n",
            "| Fan  Temp   Perf          Pwr:Usage/Cap |           Memory-Usage | GPU-Util  Compute M. |\n",
            "|                                         |                        |               MIG M. |\n",
            "|=========================================+========================+======================|\n",
            "|   0  Tesla T4                       Off |   00000000:00:04.0 Off |                    0 |\n",
            "| N/A   43C    P8             11W /   70W |       0MiB /  15360MiB |      0%      Default |\n",
            "|                                         |                        |                  N/A |\n",
            "+-----------------------------------------+------------------------+----------------------+\n",
            "                                                                                         \n",
            "+-----------------------------------------------------------------------------------------+\n",
            "| Processes:                                                                              |\n",
            "|  GPU   GI   CI        PID   Type   Process name                              GPU Memory |\n",
            "|        ID   ID                                                               Usage      |\n",
            "|=========================================================================================|\n",
            "|  No running processes found                                                             |\n",
            "+-----------------------------------------------------------------------------------------+\n"
          ]
        }
      ],
      "source": [
        "!nvidia-smi"
      ]
    },
    {
      "cell_type": "code",
      "source": [
        "import tensorflow as tf\n",
        "print(\"Versión de TF:\", tf.__version__)\n",
        "print(\"GPUs visibles para TF:\", tf.config.list_physical_devices('GPU'))"
      ],
      "metadata": {
        "colab": {
          "base_uri": "https://localhost:8080/"
        },
        "id": "5IpiwWooS7Yt",
        "outputId": "fe6175cd-bb71-43c4-ccc3-d5261fb50ae6"
      },
      "execution_count": 2,
      "outputs": [
        {
          "output_type": "stream",
          "name": "stdout",
          "text": [
            "Versión de TF: 2.18.0\n",
            "GPUs visibles para TF: [PhysicalDevice(name='/physical_device:GPU:0', device_type='GPU')]\n"
          ]
        }
      ]
    },
    {
      "cell_type": "markdown",
      "source": [
        "## Load Data"
      ],
      "metadata": {
        "id": "z5ZE9tJ29Bsm"
      }
    },
    {
      "cell_type": "code",
      "source": [
        "import pandas as pd\n",
        "import numpy as np\n",
        "import matplotlib.pyplot as plt\n",
        "from sklearn.model_selection import StratifiedKFold, train_test_split\n",
        "from sklearn.preprocessing import StandardScaler\n",
        "from sklearn.metrics import accuracy_score, confusion_matrix, classification_report\n",
        "from tensorflow.keras.models import Sequential\n",
        "from tensorflow.keras.layers import Dense, Input\n",
        "from tensorflow.keras.callbacks import EarlyStopping\n",
        "from tensorflow.keras.regularizers import l2\n",
        "import tensorflow as tf"
      ],
      "metadata": {
        "id": "p36vKsxr63Tg"
      },
      "execution_count": 3,
      "outputs": []
    },
    {
      "cell_type": "code",
      "source": [
        "# Reproducibilidad\n",
        "tf.keras.utils.set_random_seed(42)\n",
        "\n",
        "url ='https://raw.githubusercontent.com/LolaSM/neck-pain/refs/heads/main/tablagrupos_AB_raw.csv'\n",
        "df = pd.read_csv(url)\n",
        "# Verificamos las columnas\n",
        "print(df.columns)\n",
        "df.head()\n"
      ],
      "metadata": {
        "colab": {
          "base_uri": "https://localhost:8080/",
          "height": 258
        },
        "id": "KXz40ipg69F2",
        "outputId": "dfc83dba-de4c-41e3-900c-359b924cc438"
      },
      "execution_count": 4,
      "outputs": [
        {
          "output_type": "stream",
          "name": "stdout",
          "text": [
            "Index(['paciente_columna', 'grupo_columna', 'tiempo', 'posicionX', 'posicionY',\n",
            "       'posicionZ', 'anguloEulerX', 'anguloEulerY', 'anguloEulerZ'],\n",
            "      dtype='object')\n"
          ]
        },
        {
          "output_type": "execute_result",
          "data": {
            "text/plain": [
              "   paciente_columna grupo_columna      tiempo  posicionX  posicionY  \\\n",
              "0                 1             A  56466.6141     0.1376   -0.19134   \n",
              "1                 1             A  56486.5546     0.1376   -0.19134   \n",
              "2                 1             A  56506.3472     0.0806   -0.13934   \n",
              "3                 1             A  56526.7568     0.0806   -0.13934   \n",
              "4                 1             A  56547.5340     0.0806   -0.13934   \n",
              "\n",
              "   posicionZ  anguloEulerX  anguloEulerY  anguloEulerZ  \n",
              "0    0.18056    -80.576508      40.16388    -26.151448  \n",
              "1    0.18056    -80.576508      40.16388    -26.151448  \n",
              "2    0.14656    -84.195995      37.00198    -24.848048  \n",
              "3    0.14656    -84.195995      37.00198    -24.848048  \n",
              "4    0.14656    -84.195995      37.00198    -24.848048  "
            ],
            "text/html": [
              "\n",
              "  <div id=\"df-30186927-db32-49d8-ad7a-a80e94e5a568\" class=\"colab-df-container\">\n",
              "    <div>\n",
              "<style scoped>\n",
              "    .dataframe tbody tr th:only-of-type {\n",
              "        vertical-align: middle;\n",
              "    }\n",
              "\n",
              "    .dataframe tbody tr th {\n",
              "        vertical-align: top;\n",
              "    }\n",
              "\n",
              "    .dataframe thead th {\n",
              "        text-align: right;\n",
              "    }\n",
              "</style>\n",
              "<table border=\"1\" class=\"dataframe\">\n",
              "  <thead>\n",
              "    <tr style=\"text-align: right;\">\n",
              "      <th></th>\n",
              "      <th>paciente_columna</th>\n",
              "      <th>grupo_columna</th>\n",
              "      <th>tiempo</th>\n",
              "      <th>posicionX</th>\n",
              "      <th>posicionY</th>\n",
              "      <th>posicionZ</th>\n",
              "      <th>anguloEulerX</th>\n",
              "      <th>anguloEulerY</th>\n",
              "      <th>anguloEulerZ</th>\n",
              "    </tr>\n",
              "  </thead>\n",
              "  <tbody>\n",
              "    <tr>\n",
              "      <th>0</th>\n",
              "      <td>1</td>\n",
              "      <td>A</td>\n",
              "      <td>56466.6141</td>\n",
              "      <td>0.1376</td>\n",
              "      <td>-0.19134</td>\n",
              "      <td>0.18056</td>\n",
              "      <td>-80.576508</td>\n",
              "      <td>40.16388</td>\n",
              "      <td>-26.151448</td>\n",
              "    </tr>\n",
              "    <tr>\n",
              "      <th>1</th>\n",
              "      <td>1</td>\n",
              "      <td>A</td>\n",
              "      <td>56486.5546</td>\n",
              "      <td>0.1376</td>\n",
              "      <td>-0.19134</td>\n",
              "      <td>0.18056</td>\n",
              "      <td>-80.576508</td>\n",
              "      <td>40.16388</td>\n",
              "      <td>-26.151448</td>\n",
              "    </tr>\n",
              "    <tr>\n",
              "      <th>2</th>\n",
              "      <td>1</td>\n",
              "      <td>A</td>\n",
              "      <td>56506.3472</td>\n",
              "      <td>0.0806</td>\n",
              "      <td>-0.13934</td>\n",
              "      <td>0.14656</td>\n",
              "      <td>-84.195995</td>\n",
              "      <td>37.00198</td>\n",
              "      <td>-24.848048</td>\n",
              "    </tr>\n",
              "    <tr>\n",
              "      <th>3</th>\n",
              "      <td>1</td>\n",
              "      <td>A</td>\n",
              "      <td>56526.7568</td>\n",
              "      <td>0.0806</td>\n",
              "      <td>-0.13934</td>\n",
              "      <td>0.14656</td>\n",
              "      <td>-84.195995</td>\n",
              "      <td>37.00198</td>\n",
              "      <td>-24.848048</td>\n",
              "    </tr>\n",
              "    <tr>\n",
              "      <th>4</th>\n",
              "      <td>1</td>\n",
              "      <td>A</td>\n",
              "      <td>56547.5340</td>\n",
              "      <td>0.0806</td>\n",
              "      <td>-0.13934</td>\n",
              "      <td>0.14656</td>\n",
              "      <td>-84.195995</td>\n",
              "      <td>37.00198</td>\n",
              "      <td>-24.848048</td>\n",
              "    </tr>\n",
              "  </tbody>\n",
              "</table>\n",
              "</div>\n",
              "    <div class=\"colab-df-buttons\">\n",
              "\n",
              "  <div class=\"colab-df-container\">\n",
              "    <button class=\"colab-df-convert\" onclick=\"convertToInteractive('df-30186927-db32-49d8-ad7a-a80e94e5a568')\"\n",
              "            title=\"Convert this dataframe to an interactive table.\"\n",
              "            style=\"display:none;\">\n",
              "\n",
              "  <svg xmlns=\"http://www.w3.org/2000/svg\" height=\"24px\" viewBox=\"0 -960 960 960\">\n",
              "    <path d=\"M120-120v-720h720v720H120Zm60-500h600v-160H180v160Zm220 220h160v-160H400v160Zm0 220h160v-160H400v160ZM180-400h160v-160H180v160Zm440 0h160v-160H620v160ZM180-180h160v-160H180v160Zm440 0h160v-160H620v160Z\"/>\n",
              "  </svg>\n",
              "    </button>\n",
              "\n",
              "  <style>\n",
              "    .colab-df-container {\n",
              "      display:flex;\n",
              "      gap: 12px;\n",
              "    }\n",
              "\n",
              "    .colab-df-convert {\n",
              "      background-color: #E8F0FE;\n",
              "      border: none;\n",
              "      border-radius: 50%;\n",
              "      cursor: pointer;\n",
              "      display: none;\n",
              "      fill: #1967D2;\n",
              "      height: 32px;\n",
              "      padding: 0 0 0 0;\n",
              "      width: 32px;\n",
              "    }\n",
              "\n",
              "    .colab-df-convert:hover {\n",
              "      background-color: #E2EBFA;\n",
              "      box-shadow: 0px 1px 2px rgba(60, 64, 67, 0.3), 0px 1px 3px 1px rgba(60, 64, 67, 0.15);\n",
              "      fill: #174EA6;\n",
              "    }\n",
              "\n",
              "    .colab-df-buttons div {\n",
              "      margin-bottom: 4px;\n",
              "    }\n",
              "\n",
              "    [theme=dark] .colab-df-convert {\n",
              "      background-color: #3B4455;\n",
              "      fill: #D2E3FC;\n",
              "    }\n",
              "\n",
              "    [theme=dark] .colab-df-convert:hover {\n",
              "      background-color: #434B5C;\n",
              "      box-shadow: 0px 1px 3px 1px rgba(0, 0, 0, 0.15);\n",
              "      filter: drop-shadow(0px 1px 2px rgba(0, 0, 0, 0.3));\n",
              "      fill: #FFFFFF;\n",
              "    }\n",
              "  </style>\n",
              "\n",
              "    <script>\n",
              "      const buttonEl =\n",
              "        document.querySelector('#df-30186927-db32-49d8-ad7a-a80e94e5a568 button.colab-df-convert');\n",
              "      buttonEl.style.display =\n",
              "        google.colab.kernel.accessAllowed ? 'block' : 'none';\n",
              "\n",
              "      async function convertToInteractive(key) {\n",
              "        const element = document.querySelector('#df-30186927-db32-49d8-ad7a-a80e94e5a568');\n",
              "        const dataTable =\n",
              "          await google.colab.kernel.invokeFunction('convertToInteractive',\n",
              "                                                    [key], {});\n",
              "        if (!dataTable) return;\n",
              "\n",
              "        const docLinkHtml = 'Like what you see? Visit the ' +\n",
              "          '<a target=\"_blank\" href=https://colab.research.google.com/notebooks/data_table.ipynb>data table notebook</a>'\n",
              "          + ' to learn more about interactive tables.';\n",
              "        element.innerHTML = '';\n",
              "        dataTable['output_type'] = 'display_data';\n",
              "        await google.colab.output.renderOutput(dataTable, element);\n",
              "        const docLink = document.createElement('div');\n",
              "        docLink.innerHTML = docLinkHtml;\n",
              "        element.appendChild(docLink);\n",
              "      }\n",
              "    </script>\n",
              "  </div>\n",
              "\n",
              "\n",
              "    <div id=\"df-e4ff5725-8420-4289-9d70-5c7618613e92\">\n",
              "      <button class=\"colab-df-quickchart\" onclick=\"quickchart('df-e4ff5725-8420-4289-9d70-5c7618613e92')\"\n",
              "                title=\"Suggest charts\"\n",
              "                style=\"display:none;\">\n",
              "\n",
              "<svg xmlns=\"http://www.w3.org/2000/svg\" height=\"24px\"viewBox=\"0 0 24 24\"\n",
              "     width=\"24px\">\n",
              "    <g>\n",
              "        <path d=\"M19 3H5c-1.1 0-2 .9-2 2v14c0 1.1.9 2 2 2h14c1.1 0 2-.9 2-2V5c0-1.1-.9-2-2-2zM9 17H7v-7h2v7zm4 0h-2V7h2v10zm4 0h-2v-4h2v4z\"/>\n",
              "    </g>\n",
              "</svg>\n",
              "      </button>\n",
              "\n",
              "<style>\n",
              "  .colab-df-quickchart {\n",
              "      --bg-color: #E8F0FE;\n",
              "      --fill-color: #1967D2;\n",
              "      --hover-bg-color: #E2EBFA;\n",
              "      --hover-fill-color: #174EA6;\n",
              "      --disabled-fill-color: #AAA;\n",
              "      --disabled-bg-color: #DDD;\n",
              "  }\n",
              "\n",
              "  [theme=dark] .colab-df-quickchart {\n",
              "      --bg-color: #3B4455;\n",
              "      --fill-color: #D2E3FC;\n",
              "      --hover-bg-color: #434B5C;\n",
              "      --hover-fill-color: #FFFFFF;\n",
              "      --disabled-bg-color: #3B4455;\n",
              "      --disabled-fill-color: #666;\n",
              "  }\n",
              "\n",
              "  .colab-df-quickchart {\n",
              "    background-color: var(--bg-color);\n",
              "    border: none;\n",
              "    border-radius: 50%;\n",
              "    cursor: pointer;\n",
              "    display: none;\n",
              "    fill: var(--fill-color);\n",
              "    height: 32px;\n",
              "    padding: 0;\n",
              "    width: 32px;\n",
              "  }\n",
              "\n",
              "  .colab-df-quickchart:hover {\n",
              "    background-color: var(--hover-bg-color);\n",
              "    box-shadow: 0 1px 2px rgba(60, 64, 67, 0.3), 0 1px 3px 1px rgba(60, 64, 67, 0.15);\n",
              "    fill: var(--button-hover-fill-color);\n",
              "  }\n",
              "\n",
              "  .colab-df-quickchart-complete:disabled,\n",
              "  .colab-df-quickchart-complete:disabled:hover {\n",
              "    background-color: var(--disabled-bg-color);\n",
              "    fill: var(--disabled-fill-color);\n",
              "    box-shadow: none;\n",
              "  }\n",
              "\n",
              "  .colab-df-spinner {\n",
              "    border: 2px solid var(--fill-color);\n",
              "    border-color: transparent;\n",
              "    border-bottom-color: var(--fill-color);\n",
              "    animation:\n",
              "      spin 1s steps(1) infinite;\n",
              "  }\n",
              "\n",
              "  @keyframes spin {\n",
              "    0% {\n",
              "      border-color: transparent;\n",
              "      border-bottom-color: var(--fill-color);\n",
              "      border-left-color: var(--fill-color);\n",
              "    }\n",
              "    20% {\n",
              "      border-color: transparent;\n",
              "      border-left-color: var(--fill-color);\n",
              "      border-top-color: var(--fill-color);\n",
              "    }\n",
              "    30% {\n",
              "      border-color: transparent;\n",
              "      border-left-color: var(--fill-color);\n",
              "      border-top-color: var(--fill-color);\n",
              "      border-right-color: var(--fill-color);\n",
              "    }\n",
              "    40% {\n",
              "      border-color: transparent;\n",
              "      border-right-color: var(--fill-color);\n",
              "      border-top-color: var(--fill-color);\n",
              "    }\n",
              "    60% {\n",
              "      border-color: transparent;\n",
              "      border-right-color: var(--fill-color);\n",
              "    }\n",
              "    80% {\n",
              "      border-color: transparent;\n",
              "      border-right-color: var(--fill-color);\n",
              "      border-bottom-color: var(--fill-color);\n",
              "    }\n",
              "    90% {\n",
              "      border-color: transparent;\n",
              "      border-bottom-color: var(--fill-color);\n",
              "    }\n",
              "  }\n",
              "</style>\n",
              "\n",
              "      <script>\n",
              "        async function quickchart(key) {\n",
              "          const quickchartButtonEl =\n",
              "            document.querySelector('#' + key + ' button');\n",
              "          quickchartButtonEl.disabled = true;  // To prevent multiple clicks.\n",
              "          quickchartButtonEl.classList.add('colab-df-spinner');\n",
              "          try {\n",
              "            const charts = await google.colab.kernel.invokeFunction(\n",
              "                'suggestCharts', [key], {});\n",
              "          } catch (error) {\n",
              "            console.error('Error during call to suggestCharts:', error);\n",
              "          }\n",
              "          quickchartButtonEl.classList.remove('colab-df-spinner');\n",
              "          quickchartButtonEl.classList.add('colab-df-quickchart-complete');\n",
              "        }\n",
              "        (() => {\n",
              "          let quickchartButtonEl =\n",
              "            document.querySelector('#df-e4ff5725-8420-4289-9d70-5c7618613e92 button');\n",
              "          quickchartButtonEl.style.display =\n",
              "            google.colab.kernel.accessAllowed ? 'block' : 'none';\n",
              "        })();\n",
              "      </script>\n",
              "    </div>\n",
              "\n",
              "    </div>\n",
              "  </div>\n"
            ],
            "application/vnd.google.colaboratory.intrinsic+json": {
              "type": "dataframe",
              "variable_name": "df"
            }
          },
          "metadata": {},
          "execution_count": 4
        }
      ]
    },
    {
      "cell_type": "markdown",
      "source": [
        "## Building sequences"
      ],
      "metadata": {
        "id": "z0vToO6D9KPo"
      }
    },
    {
      "cell_type": "code",
      "source": [
        "# --- parámetros principales ---\n",
        "WIN   = 256        # longitud de la ventana (timesteps) 5s\n",
        "STEP  = 128        # desplazamiento;  solape 50 % (2,5s)\n",
        "MIN_L = WIN        # ignora pacientes más cortos que la ventana\n",
        "#MAX_W = 200        # (opcional) tope de ventanas por paciente para no inflar memoria\n",
        "\n",
        "feature_cols = ['posicionX','posicionY','posicionZ',\n",
        "                'anguloEulerX','anguloEulerY','anguloEulerZ']\n",
        "label_map = {'A':0, 'B':1}\n",
        "\n",
        "windows      = []    # (total_windows, WIN, 6)\n",
        "window_labels= []    # 1 label por ventana\n",
        "window_pids  = []    # identificador paciente por ventana\n",
        "\n",
        "for pid, g in df.groupby('paciente_columna'):\n",
        "    g   = g.sort_values('tiempo')\n",
        "    seq = g[feature_cols].values.astype('float32')\n",
        "    y   = label_map[g['grupo_columna'].iloc[0]]\n",
        "\n",
        "    L   = len(seq)\n",
        "    if L < MIN_L:                      # muy pocos pasos → descartamos\n",
        "        continue\n",
        "\n",
        "    # --- recorre la señal a saltos STEP ---\n",
        "    n_added = 0\n",
        "    for start in range(0, L - WIN + 1, STEP):\n",
        "        win = seq[start : start + WIN]\n",
        "        windows.append(win)\n",
        "        window_labels.append(y)\n",
        "        window_pids.append(pid)\n",
        "        n_added += 1\n",
        "        #if n_added >= MAX_W:   # límite opcional\n",
        "            #break\n",
        "windows       = np.stack(windows)                 # (Nw, WIN, 6)\n",
        "window_labels = np.array(window_labels)           # (Nw,)\n",
        "window_pids   = np.array(window_pids)             # (Nw,)\n",
        "\n",
        "print(\"Ventanas generadas:\", windows.shape)\n",
        "print(\"Ejemplo   X:\", windows[0].shape)"
      ],
      "metadata": {
        "colab": {
          "base_uri": "https://localhost:8080/"
        },
        "id": "jEykVgLd7kc9",
        "outputId": "f00784f7-4b3f-4b7e-cfcc-87b458021034"
      },
      "execution_count": 5,
      "outputs": [
        {
          "output_type": "stream",
          "name": "stdout",
          "text": [
            "Ventanas generadas: (2779, 256, 6)\n",
            "Ejemplo   X: (256, 6)\n"
          ]
        }
      ]
    },
    {
      "cell_type": "markdown",
      "source": [
        "## Subject-wise split 80% train y 20% test"
      ],
      "metadata": {
        "id": "wG6nsvw49OTl"
      }
    },
    {
      "cell_type": "code",
      "source": [
        "from sklearn.model_selection import GroupShuffleSplit\n",
        "import numpy as np\n",
        "\n",
        "# ---------- 80 % train  · 20 % test ----------\n",
        "gss = GroupShuffleSplit(n_splits=1, test_size=0.20, random_state=42)\n",
        "train_idx, test_idx = next(gss.split(windows, window_labels, groups=window_pids))\n",
        "\n",
        "X_train, X_test = windows[train_idx], windows[test_idx]\n",
        "y_train, y_test = window_labels[train_idx], window_labels[test_idx]\n",
        "pid_train, pid_test = window_pids[train_idx], window_pids[test_idx]\n",
        "\n",
        "# ---------- 10 % de los pacientes de train → VALIDACIÓN ----------\n",
        "gss_val = GroupShuffleSplit(n_splits=1, test_size=0.10, random_state=42)\n",
        "train_idx2, val_idx = next(gss_val.split(X_train, y_train, groups=pid_train))\n",
        "\n",
        "X_val,   y_val,   pid_val   = X_train[val_idx],   y_train[val_idx],   pid_train[val_idx]\n",
        "X_train, y_train, pid_train = X_train[train_idx2], y_train[train_idx2], pid_train[train_idx2]\n",
        "\n",
        "print(\"Train:\", X_train.shape, \" Val:\", X_val.shape, \" Test:\", X_test.shape)\n",
        "\n"
      ],
      "metadata": {
        "colab": {
          "base_uri": "https://localhost:8080/"
        },
        "id": "DRWKUAWD9S90",
        "outputId": "d334b899-0578-4866-e375-3bab19d82bd6"
      },
      "execution_count": 6,
      "outputs": [
        {
          "output_type": "stream",
          "name": "stdout",
          "text": [
            "Train: (1994, 256, 6)  Val: (196, 256, 6)  Test: (589, 256, 6)\n"
          ]
        }
      ]
    },
    {
      "cell_type": "markdown",
      "source": [
        "## Model Definition"
      ],
      "metadata": {
        "id": "LNZAMh0YWUHL"
      }
    },
    {
      "cell_type": "code",
      "source": [
        "gpus = tf.config.experimental.list_physical_devices('GPU')\n",
        "for gpu in gpus:\n",
        "    tf.config.experimental.set_memory_growth(gpu, True)"
      ],
      "metadata": {
        "id": "bcwY4xUTTFrw"
      },
      "execution_count": 7,
      "outputs": []
    },
    {
      "cell_type": "code",
      "source": [
        "import tensorflow as tf\n",
        "tf.keras.backend.clear_session()\n",
        "\n",
        "WIN  = X_train.shape[1]        # 256\n",
        "F    = X_train.shape[2]        # 6\n",
        "\n",
        "def build_model():\n",
        "    inp = tf.keras.Input(shape=(WIN, F))\n",
        "    x   = tf.keras.layers.Bidirectional(\n",
        "              tf.keras.layers.LSTM(32, recurrent_dropout=0.2))(inp)\n",
        "    x   = tf.keras.layers.Dropout(0.3)(x)\n",
        "    x   = tf.keras.layers.LayerNormalization()(x)\n",
        "    x   = tf.keras.layers.Dense(16, activation='relu',\n",
        "                                kernel_regularizer=tf.keras.regularizers.l2(1e-4))(x)\n",
        "    out = tf.keras.layers.Dense(1, activation='sigmoid')(x)\n",
        "    model = tf.keras.Model(inp, out)\n",
        "    model.compile(optimizer=tf.keras.optimizers.Adam(1e-4),\n",
        "                  loss='binary_crossentropy', metrics=['accuracy'])\n",
        "    return model\n",
        "\n",
        "model = build_model()\n",
        "model.summary()\n"
      ],
      "metadata": {
        "colab": {
          "base_uri": "https://localhost:8080/",
          "height": 337
        },
        "id": "R5jx5ExA9mLI",
        "outputId": "a5686c86-9109-4f89-a7dc-66a85c6772da"
      },
      "execution_count": 8,
      "outputs": [
        {
          "output_type": "display_data",
          "data": {
            "text/plain": [
              "\u001b[1mModel: \"functional\"\u001b[0m\n"
            ],
            "text/html": [
              "<pre style=\"white-space:pre;overflow-x:auto;line-height:normal;font-family:Menlo,'DejaVu Sans Mono',consolas,'Courier New',monospace\"><span style=\"font-weight: bold\">Model: \"functional\"</span>\n",
              "</pre>\n"
            ]
          },
          "metadata": {}
        },
        {
          "output_type": "display_data",
          "data": {
            "text/plain": [
              "┏━━━━━━━━━━━━━━━━━━━━━━━━━━━━━━━━━┳━━━━━━━━━━━━━━━━━━━━━━━━┳━━━━━━━━━━━━━━━┓\n",
              "┃\u001b[1m \u001b[0m\u001b[1mLayer (type)                   \u001b[0m\u001b[1m \u001b[0m┃\u001b[1m \u001b[0m\u001b[1mOutput Shape          \u001b[0m\u001b[1m \u001b[0m┃\u001b[1m \u001b[0m\u001b[1m      Param #\u001b[0m\u001b[1m \u001b[0m┃\n",
              "┡━━━━━━━━━━━━━━━━━━━━━━━━━━━━━━━━━╇━━━━━━━━━━━━━━━━━━━━━━━━╇━━━━━━━━━━━━━━━┩\n",
              "│ input_layer (\u001b[38;5;33mInputLayer\u001b[0m)        │ (\u001b[38;5;45mNone\u001b[0m, \u001b[38;5;34m256\u001b[0m, \u001b[38;5;34m6\u001b[0m)         │             \u001b[38;5;34m0\u001b[0m │\n",
              "├─────────────────────────────────┼────────────────────────┼───────────────┤\n",
              "│ bidirectional (\u001b[38;5;33mBidirectional\u001b[0m)   │ (\u001b[38;5;45mNone\u001b[0m, \u001b[38;5;34m64\u001b[0m)             │         \u001b[38;5;34m9,984\u001b[0m │\n",
              "├─────────────────────────────────┼────────────────────────┼───────────────┤\n",
              "│ dropout (\u001b[38;5;33mDropout\u001b[0m)               │ (\u001b[38;5;45mNone\u001b[0m, \u001b[38;5;34m64\u001b[0m)             │             \u001b[38;5;34m0\u001b[0m │\n",
              "├─────────────────────────────────┼────────────────────────┼───────────────┤\n",
              "│ layer_normalization             │ (\u001b[38;5;45mNone\u001b[0m, \u001b[38;5;34m64\u001b[0m)             │           \u001b[38;5;34m128\u001b[0m │\n",
              "│ (\u001b[38;5;33mLayerNormalization\u001b[0m)            │                        │               │\n",
              "├─────────────────────────────────┼────────────────────────┼───────────────┤\n",
              "│ dense (\u001b[38;5;33mDense\u001b[0m)                   │ (\u001b[38;5;45mNone\u001b[0m, \u001b[38;5;34m16\u001b[0m)             │         \u001b[38;5;34m1,040\u001b[0m │\n",
              "├─────────────────────────────────┼────────────────────────┼───────────────┤\n",
              "│ dense_1 (\u001b[38;5;33mDense\u001b[0m)                 │ (\u001b[38;5;45mNone\u001b[0m, \u001b[38;5;34m1\u001b[0m)              │            \u001b[38;5;34m17\u001b[0m │\n",
              "└─────────────────────────────────┴────────────────────────┴───────────────┘\n"
            ],
            "text/html": [
              "<pre style=\"white-space:pre;overflow-x:auto;line-height:normal;font-family:Menlo,'DejaVu Sans Mono',consolas,'Courier New',monospace\">┏━━━━━━━━━━━━━━━━━━━━━━━━━━━━━━━━━┳━━━━━━━━━━━━━━━━━━━━━━━━┳━━━━━━━━━━━━━━━┓\n",
              "┃<span style=\"font-weight: bold\"> Layer (type)                    </span>┃<span style=\"font-weight: bold\"> Output Shape           </span>┃<span style=\"font-weight: bold\">       Param # </span>┃\n",
              "┡━━━━━━━━━━━━━━━━━━━━━━━━━━━━━━━━━╇━━━━━━━━━━━━━━━━━━━━━━━━╇━━━━━━━━━━━━━━━┩\n",
              "│ input_layer (<span style=\"color: #0087ff; text-decoration-color: #0087ff\">InputLayer</span>)        │ (<span style=\"color: #00d7ff; text-decoration-color: #00d7ff\">None</span>, <span style=\"color: #00af00; text-decoration-color: #00af00\">256</span>, <span style=\"color: #00af00; text-decoration-color: #00af00\">6</span>)         │             <span style=\"color: #00af00; text-decoration-color: #00af00\">0</span> │\n",
              "├─────────────────────────────────┼────────────────────────┼───────────────┤\n",
              "│ bidirectional (<span style=\"color: #0087ff; text-decoration-color: #0087ff\">Bidirectional</span>)   │ (<span style=\"color: #00d7ff; text-decoration-color: #00d7ff\">None</span>, <span style=\"color: #00af00; text-decoration-color: #00af00\">64</span>)             │         <span style=\"color: #00af00; text-decoration-color: #00af00\">9,984</span> │\n",
              "├─────────────────────────────────┼────────────────────────┼───────────────┤\n",
              "│ dropout (<span style=\"color: #0087ff; text-decoration-color: #0087ff\">Dropout</span>)               │ (<span style=\"color: #00d7ff; text-decoration-color: #00d7ff\">None</span>, <span style=\"color: #00af00; text-decoration-color: #00af00\">64</span>)             │             <span style=\"color: #00af00; text-decoration-color: #00af00\">0</span> │\n",
              "├─────────────────────────────────┼────────────────────────┼───────────────┤\n",
              "│ layer_normalization             │ (<span style=\"color: #00d7ff; text-decoration-color: #00d7ff\">None</span>, <span style=\"color: #00af00; text-decoration-color: #00af00\">64</span>)             │           <span style=\"color: #00af00; text-decoration-color: #00af00\">128</span> │\n",
              "│ (<span style=\"color: #0087ff; text-decoration-color: #0087ff\">LayerNormalization</span>)            │                        │               │\n",
              "├─────────────────────────────────┼────────────────────────┼───────────────┤\n",
              "│ dense (<span style=\"color: #0087ff; text-decoration-color: #0087ff\">Dense</span>)                   │ (<span style=\"color: #00d7ff; text-decoration-color: #00d7ff\">None</span>, <span style=\"color: #00af00; text-decoration-color: #00af00\">16</span>)             │         <span style=\"color: #00af00; text-decoration-color: #00af00\">1,040</span> │\n",
              "├─────────────────────────────────┼────────────────────────┼───────────────┤\n",
              "│ dense_1 (<span style=\"color: #0087ff; text-decoration-color: #0087ff\">Dense</span>)                 │ (<span style=\"color: #00d7ff; text-decoration-color: #00d7ff\">None</span>, <span style=\"color: #00af00; text-decoration-color: #00af00\">1</span>)              │            <span style=\"color: #00af00; text-decoration-color: #00af00\">17</span> │\n",
              "└─────────────────────────────────┴────────────────────────┴───────────────┘\n",
              "</pre>\n"
            ]
          },
          "metadata": {}
        },
        {
          "output_type": "display_data",
          "data": {
            "text/plain": [
              "\u001b[1m Total params: \u001b[0m\u001b[38;5;34m11,169\u001b[0m (43.63 KB)\n"
            ],
            "text/html": [
              "<pre style=\"white-space:pre;overflow-x:auto;line-height:normal;font-family:Menlo,'DejaVu Sans Mono',consolas,'Courier New',monospace\"><span style=\"font-weight: bold\"> Total params: </span><span style=\"color: #00af00; text-decoration-color: #00af00\">11,169</span> (43.63 KB)\n",
              "</pre>\n"
            ]
          },
          "metadata": {}
        },
        {
          "output_type": "display_data",
          "data": {
            "text/plain": [
              "\u001b[1m Trainable params: \u001b[0m\u001b[38;5;34m11,169\u001b[0m (43.63 KB)\n"
            ],
            "text/html": [
              "<pre style=\"white-space:pre;overflow-x:auto;line-height:normal;font-family:Menlo,'DejaVu Sans Mono',consolas,'Courier New',monospace\"><span style=\"font-weight: bold\"> Trainable params: </span><span style=\"color: #00af00; text-decoration-color: #00af00\">11,169</span> (43.63 KB)\n",
              "</pre>\n"
            ]
          },
          "metadata": {}
        },
        {
          "output_type": "display_data",
          "data": {
            "text/plain": [
              "\u001b[1m Non-trainable params: \u001b[0m\u001b[38;5;34m0\u001b[0m (0.00 B)\n"
            ],
            "text/html": [
              "<pre style=\"white-space:pre;overflow-x:auto;line-height:normal;font-family:Menlo,'DejaVu Sans Mono',consolas,'Courier New',monospace\"><span style=\"font-weight: bold\"> Non-trainable params: </span><span style=\"color: #00af00; text-decoration-color: #00af00\">0</span> (0.00 B)\n",
              "</pre>\n"
            ]
          },
          "metadata": {}
        }
      ]
    },
    {
      "cell_type": "markdown",
      "source": [
        "##Training Model"
      ],
      "metadata": {
        "id": "zcNpw_zQQnXy"
      }
    },
    {
      "cell_type": "code",
      "source": [
        "history = model.fit(\n",
        "        X_train, y_train,\n",
        "        validation_data=(X_val, y_val),\n",
        "        epochs=120,\n",
        "        batch_size=32,\n",
        "        callbacks=[\n",
        "            tf.keras.callbacks.EarlyStopping(patience=10, restore_best_weights=True),\n",
        "            tf.keras.callbacks.ReduceLROnPlateau(factor=0.5, patience=4)\n",
        "        ],\n",
        "        verbose=2\n",
        ")\n",
        "\n",
        "import matplotlib.pyplot as plt\n",
        "\n",
        "plt.figure(figsize=(6,4))\n",
        "plt.plot(history.history['accuracy'],     label='Train')\n",
        "plt.plot(history.history['val_accuracy'], label='Val')\n",
        "plt.title('Accuracy por época'); plt.xlabel('Época'); plt.ylabel('Accuracy')\n",
        "plt.legend(); plt.grid(True); plt.show()\n",
        "\n",
        "plt.figure(figsize=(6,4))\n",
        "plt.plot(history.history['loss'],     label='Train')\n",
        "plt.plot(history.history['val_loss'], label='Val')\n",
        "plt.title('Pérdida (BCE)'); plt.xlabel('Época'); plt.ylabel('Loss')\n",
        "plt.legend(); plt.grid(True); plt.show()\n"
      ],
      "metadata": {
        "colab": {
          "base_uri": "https://localhost:8080/",
          "height": 1000
        },
        "id": "hC-_e2TSQeUU",
        "outputId": "aa5beb9a-653a-49e5-b0f0-b13a7bee96cd"
      },
      "execution_count": 9,
      "outputs": [
        {
          "output_type": "stream",
          "name": "stdout",
          "text": [
            "Epoch 1/120\n",
            "63/63 - 84s - 1s/step - accuracy: 0.5186 - loss: 0.8254 - val_accuracy: 0.6735 - val_loss: 0.6486 - learning_rate: 1.0000e-04\n",
            "Epoch 2/120\n",
            "63/63 - 72s - 1s/step - accuracy: 0.5100 - loss: 0.8060 - val_accuracy: 0.6429 - val_loss: 0.6460 - learning_rate: 1.0000e-04\n",
            "Epoch 3/120\n",
            "63/63 - 82s - 1s/step - accuracy: 0.5296 - loss: 0.7752 - val_accuracy: 0.6276 - val_loss: 0.6442 - learning_rate: 1.0000e-04\n",
            "Epoch 4/120\n",
            "63/63 - 83s - 1s/step - accuracy: 0.5331 - loss: 0.7580 - val_accuracy: 0.6480 - val_loss: 0.6327 - learning_rate: 1.0000e-04\n",
            "Epoch 5/120\n",
            "63/63 - 83s - 1s/step - accuracy: 0.5562 - loss: 0.7334 - val_accuracy: 0.6429 - val_loss: 0.6256 - learning_rate: 1.0000e-04\n",
            "Epoch 6/120\n",
            "63/63 - 81s - 1s/step - accuracy: 0.5341 - loss: 0.7366 - val_accuracy: 0.6582 - val_loss: 0.6199 - learning_rate: 1.0000e-04\n",
            "Epoch 7/120\n",
            "63/63 - 81s - 1s/step - accuracy: 0.5441 - loss: 0.7203 - val_accuracy: 0.6786 - val_loss: 0.6082 - learning_rate: 1.0000e-04\n",
            "Epoch 8/120\n",
            "63/63 - 82s - 1s/step - accuracy: 0.5657 - loss: 0.7122 - val_accuracy: 0.6735 - val_loss: 0.6064 - learning_rate: 1.0000e-04\n",
            "Epoch 9/120\n",
            "63/63 - 82s - 1s/step - accuracy: 0.5647 - loss: 0.7057 - val_accuracy: 0.6786 - val_loss: 0.6015 - learning_rate: 1.0000e-04\n",
            "Epoch 10/120\n",
            "63/63 - 83s - 1s/step - accuracy: 0.5762 - loss: 0.6920 - val_accuracy: 0.6735 - val_loss: 0.6002 - learning_rate: 1.0000e-04\n",
            "Epoch 11/120\n",
            "63/63 - 80s - 1s/step - accuracy: 0.5747 - loss: 0.6863 - val_accuracy: 0.6837 - val_loss: 0.5965 - learning_rate: 1.0000e-04\n",
            "Epoch 12/120\n",
            "63/63 - 83s - 1s/step - accuracy: 0.5732 - loss: 0.6864 - val_accuracy: 0.6786 - val_loss: 0.5915 - learning_rate: 1.0000e-04\n",
            "Epoch 13/120\n",
            "63/63 - 82s - 1s/step - accuracy: 0.5868 - loss: 0.6810 - val_accuracy: 0.6939 - val_loss: 0.5883 - learning_rate: 1.0000e-04\n",
            "Epoch 14/120\n",
            "63/63 - 82s - 1s/step - accuracy: 0.5873 - loss: 0.6767 - val_accuracy: 0.6990 - val_loss: 0.5828 - learning_rate: 1.0000e-04\n",
            "Epoch 15/120\n",
            "63/63 - 81s - 1s/step - accuracy: 0.5983 - loss: 0.6743 - val_accuracy: 0.7194 - val_loss: 0.5800 - learning_rate: 1.0000e-04\n",
            "Epoch 16/120\n",
            "63/63 - 82s - 1s/step - accuracy: 0.6209 - loss: 0.6573 - val_accuracy: 0.7143 - val_loss: 0.5774 - learning_rate: 1.0000e-04\n",
            "Epoch 17/120\n",
            "63/63 - 82s - 1s/step - accuracy: 0.6063 - loss: 0.6609 - val_accuracy: 0.7092 - val_loss: 0.5816 - learning_rate: 1.0000e-04\n",
            "Epoch 18/120\n",
            "63/63 - 74s - 1s/step - accuracy: 0.6153 - loss: 0.6587 - val_accuracy: 0.7041 - val_loss: 0.5857 - learning_rate: 1.0000e-04\n",
            "Epoch 19/120\n",
            "63/63 - 82s - 1s/step - accuracy: 0.6184 - loss: 0.6552 - val_accuracy: 0.6939 - val_loss: 0.5864 - learning_rate: 1.0000e-04\n",
            "Epoch 20/120\n",
            "63/63 - 73s - 1s/step - accuracy: 0.6083 - loss: 0.6621 - val_accuracy: 0.6990 - val_loss: 0.5838 - learning_rate: 1.0000e-04\n",
            "Epoch 21/120\n",
            "63/63 - 81s - 1s/step - accuracy: 0.6204 - loss: 0.6552 - val_accuracy: 0.6939 - val_loss: 0.5865 - learning_rate: 5.0000e-05\n",
            "Epoch 22/120\n",
            "63/63 - 82s - 1s/step - accuracy: 0.6319 - loss: 0.6535 - val_accuracy: 0.6939 - val_loss: 0.5868 - learning_rate: 5.0000e-05\n",
            "Epoch 23/120\n",
            "63/63 - 82s - 1s/step - accuracy: 0.6063 - loss: 0.6583 - val_accuracy: 0.6888 - val_loss: 0.5861 - learning_rate: 5.0000e-05\n",
            "Epoch 24/120\n",
            "63/63 - 81s - 1s/step - accuracy: 0.6244 - loss: 0.6548 - val_accuracy: 0.6837 - val_loss: 0.5858 - learning_rate: 5.0000e-05\n",
            "Epoch 25/120\n",
            "63/63 - 80s - 1s/step - accuracy: 0.6108 - loss: 0.6551 - val_accuracy: 0.6888 - val_loss: 0.5860 - learning_rate: 2.5000e-05\n",
            "Epoch 26/120\n",
            "63/63 - 82s - 1s/step - accuracy: 0.6219 - loss: 0.6511 - val_accuracy: 0.6786 - val_loss: 0.5871 - learning_rate: 2.5000e-05\n"
          ]
        },
        {
          "output_type": "display_data",
          "data": {
            "text/plain": [
              "<Figure size 600x400 with 1 Axes>"
            ],
            "image/png": "[encoded data removed]"
          },
          "metadata": {}
        },
        {
          "output_type": "display_data",
          "data": {
            "text/plain": [
              "<Figure size 600x400 with 1 Axes>"
            ],
            "image/png": "[encoded data removed]"
          },
          "metadata": {}
        }
      ]
    },
    {
      "cell_type": "markdown",
      "source": [
        "## Evaluación por paciente y no por ventanas"
      ],
      "metadata": {
        "id": "hLKKni71QlnB"
      }
    },
    {
      "cell_type": "code",
      "source": [
        "# ---- predicciones de las ventanas del TEST ----\n",
        "probs_test = model.predict(X_test, batch_size=64).ravel()\n",
        "\n",
        "import pandas as pd\n",
        "df_pred = pd.DataFrame({\n",
        "    'pid':  pid_test,\n",
        "    'prob': probs_test,\n",
        "    'true': y_test\n",
        "})\n",
        "\n",
        "# ---- voto por paciente (media de probabilidades) ----\n",
        "patient_prob = df_pred.groupby('pid')['prob'].mean()\n",
        "patient_true = df_pred.groupby('pid')['true'].first()\n",
        "patient_pred = (patient_prob >= 0.5).astype(int)\n",
        "\n",
        "from sklearn.metrics import accuracy_score, confusion_matrix, classification_report\n",
        "\n",
        "acc_pat = accuracy_score(patient_true, patient_pred)\n",
        "print(f\"\\n  Accuracy por paciente (TEST): {acc_pat:.3f}\")\n",
        "\n",
        "cm = confusion_matrix(patient_true, patient_pred)\n",
        "print(\"\\nMatriz de confusión (paciente):\\n\", cm)\n",
        "\n",
        "print(\"\\nClassification report (paciente):\\n\",\n",
        "      classification_report(patient_true, patient_pred,\n",
        "                            target_names=['A (sin dolor)','B (con dolor)']))\n",
        "\n"
      ],
      "metadata": {
        "colab": {
          "base_uri": "https://localhost:8080/"
        },
        "id": "9_fbRga6Qjpy",
        "outputId": "f4b03480-2df2-4e40-f965-e8321dc40354"
      },
      "execution_count": 10,
      "outputs": [
        {
          "output_type": "stream",
          "name": "stdout",
          "text": [
            "\u001b[1m10/10\u001b[0m \u001b[32m━━━━━━━━━━━━━━━━━━━━\u001b[0m\u001b[37m\u001b[0m \u001b[1m4s\u001b[0m 333ms/step\n",
            "\n",
            "  Accuracy por paciente (TEST): 0.444\n",
            "\n",
            "Matriz de confusión (paciente):\n",
            " [[1 7]\n",
            " [3 7]]\n",
            "\n",
            "Classification report (paciente):\n",
            "                precision    recall  f1-score   support\n",
            "\n",
            "A (sin dolor)       0.25      0.12      0.17         8\n",
            "B (con dolor)       0.50      0.70      0.58        10\n",
            "\n",
            "     accuracy                           0.44        18\n",
            "    macro avg       0.38      0.41      0.38        18\n",
            " weighted avg       0.39      0.44      0.40        18\n",
            "\n"
          ]
        }
      ]
    },
    {
      "cell_type": "code",
      "source": [
        "model.save('/content/rnn_pacientes_1.h5')"
      ],
      "metadata": {
        "id": "04n8XbrUQxcn"
      },
      "execution_count": null,
      "outputs": []
    }
  ]
}