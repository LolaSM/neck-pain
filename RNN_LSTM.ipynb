{
  "nbformat": 4,
  "nbformat_minor": 0,
  "metadata": {
    "colab": {
      "provenance": [],
      "machine_shape": "hm",
      "gpuType": "A100",
      "authorship_tag": "ABX9TyM0kpOd+j6wcRnbZA93OJyJ",
      "include_colab_link": true
    },
    "kernelspec": {
      "name": "python3",
      "display_name": "Python 3"
    },
    "language_info": {
      "name": "python"
    },
    "accelerator": "GPU"
  },
  "cells": [
    {
      "cell_type": "markdown",
      "metadata": {
        "id": "view-in-github",
        "colab_type": "text"
      },
      "source": [
        "<a href=\"https://colab.research.google.com/github/LolaSM/neck-pain/blob/main/RNN_LSTM.ipynb\" target=\"_parent\"><img src=\"https://colab.research.google.com/assets/colab-badge.svg\" alt=\"Open In Colab\"/></a>"
      ]
    },
    {
      "cell_type": "code",
      "execution_count": 1,
      "metadata": {
        "id": "vhJuVpr75K6x",
        "colab": {
          "base_uri": "https://localhost:8080/"
        },
        "outputId": "d53bc7d9-e677-47e5-9158-3501dc5d3de7"
      },
      "outputs": [
        {
          "output_type": "stream",
          "name": "stdout",
          "text": [
            "Fri Jun 27 15:04:10 2025       \n",
            "+-----------------------------------------------------------------------------------------+\n",
            "| NVIDIA-SMI 550.54.15              Driver Version: 550.54.15      CUDA Version: 12.4     |\n",
            "|-----------------------------------------+------------------------+----------------------+\n",
            "| GPU  Name                 Persistence-M | Bus-Id          Disp.A | Volatile Uncorr. ECC |\n",
            "| Fan  Temp   Perf          Pwr:Usage/Cap |           Memory-Usage | GPU-Util  Compute M. |\n",
            "|                                         |                        |               MIG M. |\n",
            "|=========================================+========================+======================|\n",
            "|   0  NVIDIA A100-SXM4-40GB          Off |   00000000:00:04.0 Off |                    0 |\n",
            "| N/A   32C    P0             49W /  400W |       0MiB /  40960MiB |      0%      Default |\n",
            "|                                         |                        |             Disabled |\n",
            "+-----------------------------------------+------------------------+----------------------+\n",
            "                                                                                         \n",
            "+-----------------------------------------------------------------------------------------+\n",
            "| Processes:                                                                              |\n",
            "|  GPU   GI   CI        PID   Type   Process name                              GPU Memory |\n",
            "|        ID   ID                                                               Usage      |\n",
            "|=========================================================================================|\n",
            "|  No running processes found                                                             |\n",
            "+-----------------------------------------------------------------------------------------+\n"
          ]
        }
      ],
      "source": [
        "!nvidia-smi"
      ]
    },
    {
      "cell_type": "code",
      "source": [
        "import tensorflow as tf\n",
        "print(\"Versión de TF:\", tf.__version__)\n",
        "print(\"GPUs visibles para TF:\", tf.config.list_physical_devices('GPU'))"
      ],
      "metadata": {
        "colab": {
          "base_uri": "https://localhost:8080/"
        },
        "id": "iW4ZMdqA6zeL",
        "outputId": "f48f4cd1-f963-49da-b387-eea7073a8ff9"
      },
      "execution_count": 2,
      "outputs": [
        {
          "output_type": "stream",
          "name": "stdout",
          "text": [
            "Versión de TF: 2.18.0\n",
            "GPUs visibles para TF: [PhysicalDevice(name='/physical_device:GPU:0', device_type='GPU')]\n"
          ]
        }
      ]
    },
    {
      "cell_type": "code",
      "source": [
        "import pandas as pd\n",
        "import numpy as np\n",
        "import matplotlib.pyplot as plt\n",
        "from sklearn.model_selection import StratifiedKFold, train_test_split\n",
        "from sklearn.preprocessing import StandardScaler\n",
        "from sklearn.metrics import accuracy_score, confusion_matrix, classification_report\n",
        "from tensorflow.keras.models import Sequential\n",
        "from tensorflow.keras.layers import Dense, Input\n",
        "from tensorflow.keras.callbacks import EarlyStopping\n",
        "from tensorflow.keras.regularizers import l2\n",
        "import tensorflow as tf"
      ],
      "metadata": {
        "id": "f_IOuEIH67Nu"
      },
      "execution_count": 3,
      "outputs": []
    },
    {
      "cell_type": "code",
      "source": [
        "# Reproducibilidad\n",
        "tf.keras.utils.set_random_seed(42)\n",
        "\n",
        "url ='https://raw.githubusercontent.com/LolaSM/neck-pain/refs/heads/main/tablagrupos_AB_raw.csv'\n",
        "df = pd.read_csv(url)\n",
        "# Verificamos las columnas\n",
        "print(df.columns)\n",
        "df.head()"
      ],
      "metadata": {
        "colab": {
          "base_uri": "https://localhost:8080/",
          "height": 278
        },
        "id": "_5eb30Ax69KF",
        "outputId": "d2c2eed5-49f8-4ed6-b859-8845cf3ecc93"
      },
      "execution_count": 14,
      "outputs": [
        {
          "output_type": "stream",
          "name": "stdout",
          "text": [
            "Index(['paciente_columna', 'grupo_columna', 'tiempo', 'posicionX', 'posicionY',\n",
            "       'posicionZ', 'anguloEulerX', 'anguloEulerY', 'anguloEulerZ'],\n",
            "      dtype='object')\n"
          ]
        },
        {
          "output_type": "execute_result",
          "data": {
            "text/plain": [
              "   paciente_columna grupo_columna      tiempo  posicionX  posicionY  \\\n",
              "0                 1             A  56466.6141     0.1376   -0.19134   \n",
              "1                 1             A  56486.5546     0.1376   -0.19134   \n",
              "2                 1             A  56506.3472     0.0806   -0.13934   \n",
              "3                 1             A  56526.7568     0.0806   -0.13934   \n",
              "4                 1             A  56547.5340     0.0806   -0.13934   \n",
              "\n",
              "   posicionZ  anguloEulerX  anguloEulerY  anguloEulerZ  \n",
              "0    0.18056    -80.576508      40.16388    -26.151448  \n",
              "1    0.18056    -80.576508      40.16388    -26.151448  \n",
              "2    0.14656    -84.195995      37.00198    -24.848048  \n",
              "3    0.14656    -84.195995      37.00198    -24.848048  \n",
              "4    0.14656    -84.195995      37.00198    -24.848048  "
            ],
            "text/html": [
              "\n",
              "  <div id=\"df-8f3e87e6-fe6e-4c5c-93ee-24bff45c57fd\" class=\"colab-df-container\">\n",
              "    <div>\n",
              "<style scoped>\n",
              "    .dataframe tbody tr th:only-of-type {\n",
              "        vertical-align: middle;\n",
              "    }\n",
              "\n",
              "    .dataframe tbody tr th {\n",
              "        vertical-align: top;\n",
              "    }\n",
              "\n",
              "    .dataframe thead th {\n",
              "        text-align: right;\n",
              "    }\n",
              "</style>\n",
              "<table border=\"1\" class=\"dataframe\">\n",
              "  <thead>\n",
              "    <tr style=\"text-align: right;\">\n",
              "      <th></th>\n",
              "      <th>paciente_columna</th>\n",
              "      <th>grupo_columna</th>\n",
              "      <th>tiempo</th>\n",
              "      <th>posicionX</th>\n",
              "      <th>posicionY</th>\n",
              "      <th>posicionZ</th>\n",
              "      <th>anguloEulerX</th>\n",
              "      <th>anguloEulerY</th>\n",
              "      <th>anguloEulerZ</th>\n",
              "    </tr>\n",
              "  </thead>\n",
              "  <tbody>\n",
              "    <tr>\n",
              "      <th>0</th>\n",
              "      <td>1</td>\n",
              "      <td>A</td>\n",
              "      <td>56466.6141</td>\n",
              "      <td>0.1376</td>\n",
              "      <td>-0.19134</td>\n",
              "      <td>0.18056</td>\n",
              "      <td>-80.576508</td>\n",
              "      <td>40.16388</td>\n",
              "      <td>-26.151448</td>\n",
              "    </tr>\n",
              "    <tr>\n",
              "      <th>1</th>\n",
              "      <td>1</td>\n",
              "      <td>A</td>\n",
              "      <td>56486.5546</td>\n",
              "      <td>0.1376</td>\n",
              "      <td>-0.19134</td>\n",
              "      <td>0.18056</td>\n",
              "      <td>-80.576508</td>\n",
              "      <td>40.16388</td>\n",
              "      <td>-26.151448</td>\n",
              "    </tr>\n",
              "    <tr>\n",
              "      <th>2</th>\n",
              "      <td>1</td>\n",
              "      <td>A</td>\n",
              "      <td>56506.3472</td>\n",
              "      <td>0.0806</td>\n",
              "      <td>-0.13934</td>\n",
              "      <td>0.14656</td>\n",
              "      <td>-84.195995</td>\n",
              "      <td>37.00198</td>\n",
              "      <td>-24.848048</td>\n",
              "    </tr>\n",
              "    <tr>\n",
              "      <th>3</th>\n",
              "      <td>1</td>\n",
              "      <td>A</td>\n",
              "      <td>56526.7568</td>\n",
              "      <td>0.0806</td>\n",
              "      <td>-0.13934</td>\n",
              "      <td>0.14656</td>\n",
              "      <td>-84.195995</td>\n",
              "      <td>37.00198</td>\n",
              "      <td>-24.848048</td>\n",
              "    </tr>\n",
              "    <tr>\n",
              "      <th>4</th>\n",
              "      <td>1</td>\n",
              "      <td>A</td>\n",
              "      <td>56547.5340</td>\n",
              "      <td>0.0806</td>\n",
              "      <td>-0.13934</td>\n",
              "      <td>0.14656</td>\n",
              "      <td>-84.195995</td>\n",
              "      <td>37.00198</td>\n",
              "      <td>-24.848048</td>\n",
              "    </tr>\n",
              "  </tbody>\n",
              "</table>\n",
              "</div>\n",
              "    <div class=\"colab-df-buttons\">\n",
              "\n",
              "  <div class=\"colab-df-container\">\n",
              "    <button class=\"colab-df-convert\" onclick=\"convertToInteractive('df-8f3e87e6-fe6e-4c5c-93ee-24bff45c57fd')\"\n",
              "            title=\"Convert this dataframe to an interactive table.\"\n",
              "            style=\"display:none;\">\n",
              "\n",
              "  <svg xmlns=\"http://www.w3.org/2000/svg\" height=\"24px\" viewBox=\"0 -960 960 960\">\n",
              "    <path d=\"M120-120v-720h720v720H120Zm60-500h600v-160H180v160Zm220 220h160v-160H400v160Zm0 220h160v-160H400v160ZM180-400h160v-160H180v160Zm440 0h160v-160H620v160ZM180-180h160v-160H180v160Zm440 0h160v-160H620v160Z\"/>\n",
              "  </svg>\n",
              "    </button>\n",
              "\n",
              "  <style>\n",
              "    .colab-df-container {\n",
              "      display:flex;\n",
              "      gap: 12px;\n",
              "    }\n",
              "\n",
              "    .colab-df-convert {\n",
              "      background-color: #E8F0FE;\n",
              "      border: none;\n",
              "      border-radius: 50%;\n",
              "      cursor: pointer;\n",
              "      display: none;\n",
              "      fill: #1967D2;\n",
              "      height: 32px;\n",
              "      padding: 0 0 0 0;\n",
              "      width: 32px;\n",
              "    }\n",
              "\n",
              "    .colab-df-convert:hover {\n",
              "      background-color: #E2EBFA;\n",
              "      box-shadow: 0px 1px 2px rgba(60, 64, 67, 0.3), 0px 1px 3px 1px rgba(60, 64, 67, 0.15);\n",
              "      fill: #174EA6;\n",
              "    }\n",
              "\n",
              "    .colab-df-buttons div {\n",
              "      margin-bottom: 4px;\n",
              "    }\n",
              "\n",
              "    [theme=dark] .colab-df-convert {\n",
              "      background-color: #3B4455;\n",
              "      fill: #D2E3FC;\n",
              "    }\n",
              "\n",
              "    [theme=dark] .colab-df-convert:hover {\n",
              "      background-color: #434B5C;\n",
              "      box-shadow: 0px 1px 3px 1px rgba(0, 0, 0, 0.15);\n",
              "      filter: drop-shadow(0px 1px 2px rgba(0, 0, 0, 0.3));\n",
              "      fill: #FFFFFF;\n",
              "    }\n",
              "  </style>\n",
              "\n",
              "    <script>\n",
              "      const buttonEl =\n",
              "        document.querySelector('#df-8f3e87e6-fe6e-4c5c-93ee-24bff45c57fd button.colab-df-convert');\n",
              "      buttonEl.style.display =\n",
              "        google.colab.kernel.accessAllowed ? 'block' : 'none';\n",
              "\n",
              "      async function convertToInteractive(key) {\n",
              "        const element = document.querySelector('#df-8f3e87e6-fe6e-4c5c-93ee-24bff45c57fd');\n",
              "        const dataTable =\n",
              "          await google.colab.kernel.invokeFunction('convertToInteractive',\n",
              "                                                    [key], {});\n",
              "        if (!dataTable) return;\n",
              "\n",
              "        const docLinkHtml = 'Like what you see? Visit the ' +\n",
              "          '<a target=\"_blank\" href=https://colab.research.google.com/notebooks/data_table.ipynb>data table notebook</a>'\n",
              "          + ' to learn more about interactive tables.';\n",
              "        element.innerHTML = '';\n",
              "        dataTable['output_type'] = 'display_data';\n",
              "        await google.colab.output.renderOutput(dataTable, element);\n",
              "        const docLink = document.createElement('div');\n",
              "        docLink.innerHTML = docLinkHtml;\n",
              "        element.appendChild(docLink);\n",
              "      }\n",
              "    </script>\n",
              "  </div>\n",
              "\n",
              "\n",
              "    <div id=\"df-32cf4ca7-01a1-4d81-b684-59d2ac1b602d\">\n",
              "      <button class=\"colab-df-quickchart\" onclick=\"quickchart('df-32cf4ca7-01a1-4d81-b684-59d2ac1b602d')\"\n",
              "                title=\"Suggest charts\"\n",
              "                style=\"display:none;\">\n",
              "\n",
              "<svg xmlns=\"http://www.w3.org/2000/svg\" height=\"24px\"viewBox=\"0 0 24 24\"\n",
              "     width=\"24px\">\n",
              "    <g>\n",
              "        <path d=\"M19 3H5c-1.1 0-2 .9-2 2v14c0 1.1.9 2 2 2h14c1.1 0 2-.9 2-2V5c0-1.1-.9-2-2-2zM9 17H7v-7h2v7zm4 0h-2V7h2v10zm4 0h-2v-4h2v4z\"/>\n",
              "    </g>\n",
              "</svg>\n",
              "      </button>\n",
              "\n",
              "<style>\n",
              "  .colab-df-quickchart {\n",
              "      --bg-color: #E8F0FE;\n",
              "      --fill-color: #1967D2;\n",
              "      --hover-bg-color: #E2EBFA;\n",
              "      --hover-fill-color: #174EA6;\n",
              "      --disabled-fill-color: #AAA;\n",
              "      --disabled-bg-color: #DDD;\n",
              "  }\n",
              "\n",
              "  [theme=dark] .colab-df-quickchart {\n",
              "      --bg-color: #3B4455;\n",
              "      --fill-color: #D2E3FC;\n",
              "      --hover-bg-color: #434B5C;\n",
              "      --hover-fill-color: #FFFFFF;\n",
              "      --disabled-bg-color: #3B4455;\n",
              "      --disabled-fill-color: #666;\n",
              "  }\n",
              "\n",
              "  .colab-df-quickchart {\n",
              "    background-color: var(--bg-color);\n",
              "    border: none;\n",
              "    border-radius: 50%;\n",
              "    cursor: pointer;\n",
              "    display: none;\n",
              "    fill: var(--fill-color);\n",
              "    height: 32px;\n",
              "    padding: 0;\n",
              "    width: 32px;\n",
              "  }\n",
              "\n",
              "  .colab-df-quickchart:hover {\n",
              "    background-color: var(--hover-bg-color);\n",
              "    box-shadow: 0 1px 2px rgba(60, 64, 67, 0.3), 0 1px 3px 1px rgba(60, 64, 67, 0.15);\n",
              "    fill: var(--button-hover-fill-color);\n",
              "  }\n",
              "\n",
              "  .colab-df-quickchart-complete:disabled,\n",
              "  .colab-df-quickchart-complete:disabled:hover {\n",
              "    background-color: var(--disabled-bg-color);\n",
              "    fill: var(--disabled-fill-color);\n",
              "    box-shadow: none;\n",
              "  }\n",
              "\n",
              "  .colab-df-spinner {\n",
              "    border: 2px solid var(--fill-color);\n",
              "    border-color: transparent;\n",
              "    border-bottom-color: var(--fill-color);\n",
              "    animation:\n",
              "      spin 1s steps(1) infinite;\n",
              "  }\n",
              "\n",
              "  @keyframes spin {\n",
              "    0% {\n",
              "      border-color: transparent;\n",
              "      border-bottom-color: var(--fill-color);\n",
              "      border-left-color: var(--fill-color);\n",
              "    }\n",
              "    20% {\n",
              "      border-color: transparent;\n",
              "      border-left-color: var(--fill-color);\n",
              "      border-top-color: var(--fill-color);\n",
              "    }\n",
              "    30% {\n",
              "      border-color: transparent;\n",
              "      border-left-color: var(--fill-color);\n",
              "      border-top-color: var(--fill-color);\n",
              "      border-right-color: var(--fill-color);\n",
              "    }\n",
              "    40% {\n",
              "      border-color: transparent;\n",
              "      border-right-color: var(--fill-color);\n",
              "      border-top-color: var(--fill-color);\n",
              "    }\n",
              "    60% {\n",
              "      border-color: transparent;\n",
              "      border-right-color: var(--fill-color);\n",
              "    }\n",
              "    80% {\n",
              "      border-color: transparent;\n",
              "      border-right-color: var(--fill-color);\n",
              "      border-bottom-color: var(--fill-color);\n",
              "    }\n",
              "    90% {\n",
              "      border-color: transparent;\n",
              "      border-bottom-color: var(--fill-color);\n",
              "    }\n",
              "  }\n",
              "</style>\n",
              "\n",
              "      <script>\n",
              "        async function quickchart(key) {\n",
              "          const quickchartButtonEl =\n",
              "            document.querySelector('#' + key + ' button');\n",
              "          quickchartButtonEl.disabled = true;  // To prevent multiple clicks.\n",
              "          quickchartButtonEl.classList.add('colab-df-spinner');\n",
              "          try {\n",
              "            const charts = await google.colab.kernel.invokeFunction(\n",
              "                'suggestCharts', [key], {});\n",
              "          } catch (error) {\n",
              "            console.error('Error during call to suggestCharts:', error);\n",
              "          }\n",
              "          quickchartButtonEl.classList.remove('colab-df-spinner');\n",
              "          quickchartButtonEl.classList.add('colab-df-quickchart-complete');\n",
              "        }\n",
              "        (() => {\n",
              "          let quickchartButtonEl =\n",
              "            document.querySelector('#df-32cf4ca7-01a1-4d81-b684-59d2ac1b602d button');\n",
              "          quickchartButtonEl.style.display =\n",
              "            google.colab.kernel.accessAllowed ? 'block' : 'none';\n",
              "        })();\n",
              "      </script>\n",
              "    </div>\n",
              "\n",
              "    </div>\n",
              "  </div>\n"
            ],
            "application/vnd.google.colaboratory.intrinsic+json": {
              "type": "dataframe",
              "variable_name": "df"
            }
          },
          "metadata": {},
          "execution_count": 14
        }
      ]
    },
    {
      "cell_type": "code",
      "source": [
        "# --- parámetros principales ---\n",
        "WIN   = 256        # longitud de la ventana (timesteps) 5s\n",
        "STEP  = 128        # desplazamiento;  solape 50 % (2,5s)\n",
        "MIN_L = WIN        # ignora pacientes más cortos que la ventana\n",
        "#MAX_W = 200        # (opcional) tope de ventanas por paciente para no inflar memoria\n",
        "\n",
        "feature_cols = ['posicionX','posicionY','posicionZ',\n",
        "                'anguloEulerX','anguloEulerY','anguloEulerZ']\n",
        "label_map = {'A':0, 'B':1}\n",
        "\n",
        "windows      = []    # (total_windows, WIN, 6)\n",
        "window_labels= []    # 1 label por ventana\n",
        "window_pids  = []    # identificador paciente por ventana\n",
        "\n",
        "for pid, g in df.groupby('paciente_columna'):\n",
        "    g   = g.sort_values('tiempo')\n",
        "    seq = g[feature_cols].values.astype('float32')\n",
        "    y   = label_map[g['grupo_columna'].iloc[0]]\n",
        "\n",
        "    L   = len(seq)\n",
        "    if L < MIN_L:                      # muy pocos pasos → descartamos\n",
        "        continue\n",
        "\n",
        "    # --- recorre la señal a saltos STEP ---\n",
        "    n_added = 0\n",
        "    for start in range(0, L - WIN + 1, STEP):\n",
        "        win = seq[start : start + WIN]\n",
        "        windows.append(win)\n",
        "        window_labels.append(y)\n",
        "        window_pids.append(pid)\n",
        "        n_added += 1\n",
        "        #if n_added >= MAX_W:   # límite opcional\n",
        "            #break\n",
        "windows       = np.stack(windows)                 # (Nw, WIN, 6)\n",
        "window_labels = np.array(window_labels)           # (Nw,)\n",
        "window_pids   = np.array(window_pids)             # (Nw,)\n",
        "\n",
        "print(\"Ventanas generadas:\", windows.shape)\n",
        "print(\"Ejemplo   X:\", windows[0].shape)"
      ],
      "metadata": {
        "colab": {
          "base_uri": "https://localhost:8080/"
        },
        "id": "o6wV5SQs7DTk",
        "outputId": "65611110-08a7-463d-8cad-9e105ab66b40"
      },
      "execution_count": 15,
      "outputs": [
        {
          "output_type": "stream",
          "name": "stdout",
          "text": [
            "Ventanas generadas: (2779, 256, 6)\n",
            "Ejemplo   X: (256, 6)\n"
          ]
        }
      ]
    },
    {
      "cell_type": "code",
      "source": [
        "from sklearn.model_selection import GroupShuffleSplit\n",
        "import numpy as np\n",
        "\n",
        "# ---------- 90 % train  · 10 % test ----------\n",
        "gss = GroupShuffleSplit(n_splits=1, test_size=0.20, random_state=42)\n",
        "train_idx, test_idx = next(gss.split(windows, window_labels, groups=window_pids))\n",
        "\n",
        "X_train, X_test = windows[train_idx], windows[test_idx]\n",
        "y_train, y_test = window_labels[train_idx], window_labels[test_idx]\n",
        "pid_train, pid_test = window_pids[train_idx], window_pids[test_idx]\n",
        "\n",
        "# ---------- 10 % de los pacientes de train → VALIDACIÓN ----------\n",
        "gss_val = GroupShuffleSplit(n_splits=1, test_size=0.10, random_state=42)\n",
        "train_idx2, val_idx = next(gss_val.split(X_train, y_train, groups=pid_train))\n",
        "\n",
        "X_val,   y_val,   pid_val   = X_train[val_idx],   y_train[val_idx],   pid_train[val_idx]\n",
        "X_train, y_train, pid_train = X_train[train_idx2], y_train[train_idx2], pid_train[train_idx2]\n",
        "\n",
        "print(\"Train:\", X_train.shape, \" Val:\", X_val.shape, \" Test:\", X_test.shape)\n"
      ],
      "metadata": {
        "colab": {
          "base_uri": "https://localhost:8080/"
        },
        "id": "rNqhVwtI7LEG",
        "outputId": "01eb3ec9-0ce8-4bee-dc32-b283b4234121"
      },
      "execution_count": 16,
      "outputs": [
        {
          "output_type": "stream",
          "name": "stdout",
          "text": [
            "Train: (1994, 256, 6)  Val: (196, 256, 6)  Test: (589, 256, 6)\n"
          ]
        }
      ]
    },
    {
      "cell_type": "code",
      "source": [
        "gpus = tf.config.experimental.list_physical_devices('GPU')\n",
        "for gpu in gpus:\n",
        "    tf.config.experimental.set_memory_growth(gpu, True)"
      ],
      "metadata": {
        "id": "J_ImtQ-57idZ"
      },
      "execution_count": 17,
      "outputs": []
    },
    {
      "cell_type": "code",
      "source": [
        "import tensorflow as tf\n",
        "tf.keras.backend.clear_session()\n",
        "\n",
        "WIN  = X_train.shape[1]        # 256\n",
        "F    = X_train.shape[2]        # 6\n",
        "\n",
        "def build_model():\n",
        "    inp = tf.keras.Input(shape=(WIN, F))\n",
        "    x   = tf.keras.layers.Bidirectional(\n",
        "              tf.keras.layers.LSTM(32, recurrent_dropout=0.2))(inp)\n",
        "    #x   = tf.keras.layers.Dropout(0.2)(x)# probar sin dropout\n",
        "    x   = tf.keras.layers.LayerNormalization()(x)\n",
        "    x   = tf.keras.layers.Dense(16, activation='relu',\n",
        "                                kernel_regularizer=tf.keras.regularizers.l2(1e-4))(x)\n",
        "    out = tf.keras.layers.Dense(1, activation='sigmoid')(x)\n",
        "    model = tf.keras.Model(inp, out)\n",
        "    model.compile(optimizer=tf.keras.optimizers.Adam(1e-4),\n",
        "                  loss='binary_crossentropy', metrics=['accuracy'])\n",
        "    return model\n",
        "\n",
        "model = build_model()\n",
        "model.summary()"
      ],
      "metadata": {
        "colab": {
          "base_uri": "https://localhost:8080/",
          "height": 305
        },
        "id": "e4tCAi1i7kXf",
        "outputId": "3bf9ae5d-1333-4407-ce9a-e387d5222bb1"
      },
      "execution_count": 20,
      "outputs": [
        {
          "output_type": "display_data",
          "data": {
            "text/plain": [
              "\u001b[1mModel: \"functional\"\u001b[0m\n"
            ],
            "text/html": [
              "<pre style=\"white-space:pre;overflow-x:auto;line-height:normal;font-family:Menlo,'DejaVu Sans Mono',consolas,'Courier New',monospace\"><span style=\"font-weight: bold\">Model: \"functional\"</span>\n",
              "</pre>\n"
            ]
          },
          "metadata": {}
        },
        {
          "output_type": "display_data",
          "data": {
            "text/plain": [
              "┏━━━━━━━━━━━━━━━━━━━━━━━━━━━━━━━━━┳━━━━━━━━━━━━━━━━━━━━━━━━┳━━━━━━━━━━━━━━━┓\n",
              "┃\u001b[1m \u001b[0m\u001b[1mLayer (type)                   \u001b[0m\u001b[1m \u001b[0m┃\u001b[1m \u001b[0m\u001b[1mOutput Shape          \u001b[0m\u001b[1m \u001b[0m┃\u001b[1m \u001b[0m\u001b[1m      Param #\u001b[0m\u001b[1m \u001b[0m┃\n",
              "┡━━━━━━━━━━━━━━━━━━━━━━━━━━━━━━━━━╇━━━━━━━━━━━━━━━━━━━━━━━━╇━━━━━━━━━━━━━━━┩\n",
              "│ input_layer (\u001b[38;5;33mInputLayer\u001b[0m)        │ (\u001b[38;5;45mNone\u001b[0m, \u001b[38;5;34m256\u001b[0m, \u001b[38;5;34m6\u001b[0m)         │             \u001b[38;5;34m0\u001b[0m │\n",
              "├─────────────────────────────────┼────────────────────────┼───────────────┤\n",
              "│ bidirectional (\u001b[38;5;33mBidirectional\u001b[0m)   │ (\u001b[38;5;45mNone\u001b[0m, \u001b[38;5;34m64\u001b[0m)             │         \u001b[38;5;34m9,984\u001b[0m │\n",
              "├─────────────────────────────────┼────────────────────────┼───────────────┤\n",
              "│ layer_normalization             │ (\u001b[38;5;45mNone\u001b[0m, \u001b[38;5;34m64\u001b[0m)             │           \u001b[38;5;34m128\u001b[0m │\n",
              "│ (\u001b[38;5;33mLayerNormalization\u001b[0m)            │                        │               │\n",
              "├─────────────────────────────────┼────────────────────────┼───────────────┤\n",
              "│ dense (\u001b[38;5;33mDense\u001b[0m)                   │ (\u001b[38;5;45mNone\u001b[0m, \u001b[38;5;34m16\u001b[0m)             │         \u001b[38;5;34m1,040\u001b[0m │\n",
              "├─────────────────────────────────┼────────────────────────┼───────────────┤\n",
              "│ dense_1 (\u001b[38;5;33mDense\u001b[0m)                 │ (\u001b[38;5;45mNone\u001b[0m, \u001b[38;5;34m1\u001b[0m)              │            \u001b[38;5;34m17\u001b[0m │\n",
              "└─────────────────────────────────┴────────────────────────┴───────────────┘\n"
            ],
            "text/html": [
              "<pre style=\"white-space:pre;overflow-x:auto;line-height:normal;font-family:Menlo,'DejaVu Sans Mono',consolas,'Courier New',monospace\">┏━━━━━━━━━━━━━━━━━━━━━━━━━━━━━━━━━┳━━━━━━━━━━━━━━━━━━━━━━━━┳━━━━━━━━━━━━━━━┓\n",
              "┃<span style=\"font-weight: bold\"> Layer (type)                    </span>┃<span style=\"font-weight: bold\"> Output Shape           </span>┃<span style=\"font-weight: bold\">       Param # </span>┃\n",
              "┡━━━━━━━━━━━━━━━━━━━━━━━━━━━━━━━━━╇━━━━━━━━━━━━━━━━━━━━━━━━╇━━━━━━━━━━━━━━━┩\n",
              "│ input_layer (<span style=\"color: #0087ff; text-decoration-color: #0087ff\">InputLayer</span>)        │ (<span style=\"color: #00d7ff; text-decoration-color: #00d7ff\">None</span>, <span style=\"color: #00af00; text-decoration-color: #00af00\">256</span>, <span style=\"color: #00af00; text-decoration-color: #00af00\">6</span>)         │             <span style=\"color: #00af00; text-decoration-color: #00af00\">0</span> │\n",
              "├─────────────────────────────────┼────────────────────────┼───────────────┤\n",
              "│ bidirectional (<span style=\"color: #0087ff; text-decoration-color: #0087ff\">Bidirectional</span>)   │ (<span style=\"color: #00d7ff; text-decoration-color: #00d7ff\">None</span>, <span style=\"color: #00af00; text-decoration-color: #00af00\">64</span>)             │         <span style=\"color: #00af00; text-decoration-color: #00af00\">9,984</span> │\n",
              "├─────────────────────────────────┼────────────────────────┼───────────────┤\n",
              "│ layer_normalization             │ (<span style=\"color: #00d7ff; text-decoration-color: #00d7ff\">None</span>, <span style=\"color: #00af00; text-decoration-color: #00af00\">64</span>)             │           <span style=\"color: #00af00; text-decoration-color: #00af00\">128</span> │\n",
              "│ (<span style=\"color: #0087ff; text-decoration-color: #0087ff\">LayerNormalization</span>)            │                        │               │\n",
              "├─────────────────────────────────┼────────────────────────┼───────────────┤\n",
              "│ dense (<span style=\"color: #0087ff; text-decoration-color: #0087ff\">Dense</span>)                   │ (<span style=\"color: #00d7ff; text-decoration-color: #00d7ff\">None</span>, <span style=\"color: #00af00; text-decoration-color: #00af00\">16</span>)             │         <span style=\"color: #00af00; text-decoration-color: #00af00\">1,040</span> │\n",
              "├─────────────────────────────────┼────────────────────────┼───────────────┤\n",
              "│ dense_1 (<span style=\"color: #0087ff; text-decoration-color: #0087ff\">Dense</span>)                 │ (<span style=\"color: #00d7ff; text-decoration-color: #00d7ff\">None</span>, <span style=\"color: #00af00; text-decoration-color: #00af00\">1</span>)              │            <span style=\"color: #00af00; text-decoration-color: #00af00\">17</span> │\n",
              "└─────────────────────────────────┴────────────────────────┴───────────────┘\n",
              "</pre>\n"
            ]
          },
          "metadata": {}
        },
        {
          "output_type": "display_data",
          "data": {
            "text/plain": [
              "\u001b[1m Total params: \u001b[0m\u001b[38;5;34m11,169\u001b[0m (43.63 KB)\n"
            ],
            "text/html": [
              "<pre style=\"white-space:pre;overflow-x:auto;line-height:normal;font-family:Menlo,'DejaVu Sans Mono',consolas,'Courier New',monospace\"><span style=\"font-weight: bold\"> Total params: </span><span style=\"color: #00af00; text-decoration-color: #00af00\">11,169</span> (43.63 KB)\n",
              "</pre>\n"
            ]
          },
          "metadata": {}
        },
        {
          "output_type": "display_data",
          "data": {
            "text/plain": [
              "\u001b[1m Trainable params: \u001b[0m\u001b[38;5;34m11,169\u001b[0m (43.63 KB)\n"
            ],
            "text/html": [
              "<pre style=\"white-space:pre;overflow-x:auto;line-height:normal;font-family:Menlo,'DejaVu Sans Mono',consolas,'Courier New',monospace\"><span style=\"font-weight: bold\"> Trainable params: </span><span style=\"color: #00af00; text-decoration-color: #00af00\">11,169</span> (43.63 KB)\n",
              "</pre>\n"
            ]
          },
          "metadata": {}
        },
        {
          "output_type": "display_data",
          "data": {
            "text/plain": [
              "\u001b[1m Non-trainable params: \u001b[0m\u001b[38;5;34m0\u001b[0m (0.00 B)\n"
            ],
            "text/html": [
              "<pre style=\"white-space:pre;overflow-x:auto;line-height:normal;font-family:Menlo,'DejaVu Sans Mono',consolas,'Courier New',monospace\"><span style=\"font-weight: bold\"> Non-trainable params: </span><span style=\"color: #00af00; text-decoration-color: #00af00\">0</span> (0.00 B)\n",
              "</pre>\n"
            ]
          },
          "metadata": {}
        }
      ]
    },
    {
      "cell_type": "code",
      "source": [
        "history = model.fit(\n",
        "        X_train, y_train,\n",
        "        validation_data=(X_val, y_val),\n",
        "        epochs=120,\n",
        "        batch_size=32,\n",
        "        callbacks=[\n",
        "            tf.keras.callbacks.EarlyStopping(patience=10, restore_best_weights=True),\n",
        "            tf.keras.callbacks.ReduceLROnPlateau(factor=0.5, patience=4)\n",
        "        ],\n",
        "        verbose=2\n",
        ")\n",
        "\n",
        "import matplotlib.pyplot as plt\n",
        "\n",
        "plt.figure(figsize=(6,4))\n",
        "plt.plot(history.history['accuracy'],     label='Train')\n",
        "plt.plot(history.history['val_accuracy'], label='Val')\n",
        "plt.title('Accuracy por época'); plt.xlabel('Época'); plt.ylabel('Accuracy')\n",
        "plt.legend(); plt.grid(True); plt.show()\n",
        "\n",
        "plt.figure(figsize=(6,4))\n",
        "plt.plot(history.history['loss'],     label='Train')\n",
        "plt.plot(history.history['val_loss'], label='Val')\n",
        "plt.title('Pérdida (BCE)'); plt.xlabel('Época'); plt.ylabel('Loss')\n",
        "plt.legend(); plt.grid(True); plt.show()\n"
      ],
      "metadata": {
        "colab": {
          "base_uri": "https://localhost:8080/",
          "height": 1000
        },
        "id": "hC-_e2TSQeUU",
        "outputId": "6cb320d2-48be-490b-d324-86016a7dd0e2"
      },
      "execution_count": 21,
      "outputs": [
        {
          "output_type": "stream",
          "name": "stdout",
          "text": [
            "Epoch 1/120\n",
            "63/63 - 53s - 844ms/step - accuracy: 0.5361 - loss: 0.7163 - val_accuracy: 0.4745 - val_loss: 0.7066 - learning_rate: 1.0000e-04\n",
            "Epoch 2/120\n",
            "63/63 - 47s - 743ms/step - accuracy: 0.5446 - loss: 0.7000 - val_accuracy: 0.5306 - val_loss: 0.6847 - learning_rate: 1.0000e-04\n",
            "Epoch 3/120\n",
            "63/63 - 47s - 741ms/step - accuracy: 0.5527 - loss: 0.6902 - val_accuracy: 0.5765 - val_loss: 0.6709 - learning_rate: 1.0000e-04\n",
            "Epoch 4/120\n",
            "63/63 - 47s - 748ms/step - accuracy: 0.5657 - loss: 0.6823 - val_accuracy: 0.6071 - val_loss: 0.6602 - learning_rate: 1.0000e-04\n",
            "Epoch 5/120\n",
            "63/63 - 47s - 743ms/step - accuracy: 0.5737 - loss: 0.6749 - val_accuracy: 0.6276 - val_loss: 0.6512 - learning_rate: 1.0000e-04\n",
            "Epoch 6/120\n",
            "63/63 - 46s - 738ms/step - accuracy: 0.5838 - loss: 0.6692 - val_accuracy: 0.6735 - val_loss: 0.6451 - learning_rate: 1.0000e-04\n",
            "Epoch 7/120\n",
            "63/63 - 47s - 749ms/step - accuracy: 0.5923 - loss: 0.6641 - val_accuracy: 0.6888 - val_loss: 0.6398 - learning_rate: 1.0000e-04\n",
            "Epoch 8/120\n",
            "63/63 - 47s - 751ms/step - accuracy: 0.5918 - loss: 0.6608 - val_accuracy: 0.7092 - val_loss: 0.6347 - learning_rate: 1.0000e-04\n",
            "Epoch 9/120\n",
            "63/63 - 47s - 744ms/step - accuracy: 0.6013 - loss: 0.6561 - val_accuracy: 0.6990 - val_loss: 0.6317 - learning_rate: 1.0000e-04\n",
            "Epoch 10/120\n",
            "63/63 - 47s - 753ms/step - accuracy: 0.6113 - loss: 0.6522 - val_accuracy: 0.7092 - val_loss: 0.6293 - learning_rate: 1.0000e-04\n",
            "Epoch 11/120\n",
            "63/63 - 46s - 732ms/step - accuracy: 0.6179 - loss: 0.6483 - val_accuracy: 0.7092 - val_loss: 0.6241 - learning_rate: 1.0000e-04\n",
            "Epoch 12/120\n",
            "63/63 - 47s - 747ms/step - accuracy: 0.6239 - loss: 0.6441 - val_accuracy: 0.7194 - val_loss: 0.6216 - learning_rate: 1.0000e-04\n",
            "Epoch 13/120\n",
            "63/63 - 47s - 740ms/step - accuracy: 0.6274 - loss: 0.6398 - val_accuracy: 0.7245 - val_loss: 0.6184 - learning_rate: 1.0000e-04\n",
            "Epoch 14/120\n",
            "63/63 - 47s - 749ms/step - accuracy: 0.6359 - loss: 0.6365 - val_accuracy: 0.7449 - val_loss: 0.6167 - learning_rate: 1.0000e-04\n",
            "Epoch 15/120\n",
            "63/63 - 47s - 745ms/step - accuracy: 0.6359 - loss: 0.6344 - val_accuracy: 0.7551 - val_loss: 0.6119 - learning_rate: 1.0000e-04\n",
            "Epoch 16/120\n",
            "63/63 - 47s - 743ms/step - accuracy: 0.6459 - loss: 0.6290 - val_accuracy: 0.7551 - val_loss: 0.6102 - learning_rate: 1.0000e-04\n",
            "Epoch 17/120\n",
            "63/63 - 47s - 744ms/step - accuracy: 0.6434 - loss: 0.6280 - val_accuracy: 0.7602 - val_loss: 0.6094 - learning_rate: 1.0000e-04\n",
            "Epoch 18/120\n",
            "63/63 - 47s - 750ms/step - accuracy: 0.6555 - loss: 0.6237 - val_accuracy: 0.7500 - val_loss: 0.6071 - learning_rate: 1.0000e-04\n",
            "Epoch 19/120\n",
            "63/63 - 47s - 752ms/step - accuracy: 0.6640 - loss: 0.6200 - val_accuracy: 0.7398 - val_loss: 0.6057 - learning_rate: 1.0000e-04\n",
            "Epoch 20/120\n",
            "63/63 - 47s - 752ms/step - accuracy: 0.6675 - loss: 0.6164 - val_accuracy: 0.7296 - val_loss: 0.6045 - learning_rate: 1.0000e-04\n",
            "Epoch 21/120\n",
            "63/63 - 47s - 748ms/step - accuracy: 0.6765 - loss: 0.6125 - val_accuracy: 0.7245 - val_loss: 0.6049 - learning_rate: 1.0000e-04\n",
            "Epoch 22/120\n",
            "63/63 - 47s - 744ms/step - accuracy: 0.6795 - loss: 0.6096 - val_accuracy: 0.7296 - val_loss: 0.6041 - learning_rate: 1.0000e-04\n",
            "Epoch 23/120\n",
            "63/63 - 47s - 749ms/step - accuracy: 0.6825 - loss: 0.6069 - val_accuracy: 0.7296 - val_loss: 0.6028 - learning_rate: 1.0000e-04\n",
            "Epoch 24/120\n",
            "63/63 - 47s - 745ms/step - accuracy: 0.6815 - loss: 0.6037 - val_accuracy: 0.7296 - val_loss: 0.6008 - learning_rate: 1.0000e-04\n",
            "Epoch 25/120\n",
            "63/63 - 47s - 742ms/step - accuracy: 0.6891 - loss: 0.5997 - val_accuracy: 0.7296 - val_loss: 0.6006 - learning_rate: 1.0000e-04\n",
            "Epoch 26/120\n",
            "63/63 - 47s - 744ms/step - accuracy: 0.6881 - loss: 0.5973 - val_accuracy: 0.7143 - val_loss: 0.6007 - learning_rate: 1.0000e-04\n",
            "Epoch 27/120\n",
            "63/63 - 47s - 743ms/step - accuracy: 0.6951 - loss: 0.5945 - val_accuracy: 0.7194 - val_loss: 0.5994 - learning_rate: 1.0000e-04\n",
            "Epoch 28/120\n",
            "63/63 - 47s - 745ms/step - accuracy: 0.6966 - loss: 0.5923 - val_accuracy: 0.7245 - val_loss: 0.5996 - learning_rate: 1.0000e-04\n",
            "Epoch 29/120\n",
            "63/63 - 47s - 748ms/step - accuracy: 0.7026 - loss: 0.5890 - val_accuracy: 0.7143 - val_loss: 0.5985 - learning_rate: 1.0000e-04\n",
            "Epoch 30/120\n",
            "63/63 - 47s - 744ms/step - accuracy: 0.7081 - loss: 0.5867 - val_accuracy: 0.7194 - val_loss: 0.5989 - learning_rate: 1.0000e-04\n",
            "Epoch 31/120\n",
            "63/63 - 47s - 743ms/step - accuracy: 0.7106 - loss: 0.5840 - val_accuracy: 0.7092 - val_loss: 0.5997 - learning_rate: 1.0000e-04\n",
            "Epoch 32/120\n",
            "63/63 - 47s - 747ms/step - accuracy: 0.7156 - loss: 0.5809 - val_accuracy: 0.7143 - val_loss: 0.5998 - learning_rate: 1.0000e-04\n",
            "Epoch 33/120\n",
            "63/63 - 46s - 737ms/step - accuracy: 0.7166 - loss: 0.5777 - val_accuracy: 0.7194 - val_loss: 0.6021 - learning_rate: 1.0000e-04\n",
            "Epoch 34/120\n",
            "63/63 - 47s - 741ms/step - accuracy: 0.7232 - loss: 0.5753 - val_accuracy: 0.7194 - val_loss: 0.6019 - learning_rate: 5.0000e-05\n",
            "Epoch 35/120\n",
            "63/63 - 47s - 748ms/step - accuracy: 0.7217 - loss: 0.5740 - val_accuracy: 0.7143 - val_loss: 0.6026 - learning_rate: 5.0000e-05\n",
            "Epoch 36/120\n",
            "63/63 - 47s - 741ms/step - accuracy: 0.7212 - loss: 0.5710 - val_accuracy: 0.7143 - val_loss: 0.6033 - learning_rate: 5.0000e-05\n",
            "Epoch 37/120\n",
            "63/63 - 47s - 745ms/step - accuracy: 0.7212 - loss: 0.5707 - val_accuracy: 0.7194 - val_loss: 0.6036 - learning_rate: 5.0000e-05\n",
            "Epoch 38/120\n",
            "63/63 - 47s - 740ms/step - accuracy: 0.7272 - loss: 0.5687 - val_accuracy: 0.7143 - val_loss: 0.6036 - learning_rate: 2.5000e-05\n",
            "Epoch 39/120\n",
            "63/63 - 47s - 740ms/step - accuracy: 0.7232 - loss: 0.5686 - val_accuracy: 0.7143 - val_loss: 0.6044 - learning_rate: 2.5000e-05\n"
          ]
        },
        {
          "output_type": "display_data",
          "data": {
            "text/plain": [
              "<Figure size 600x400 with 1 Axes>"
            ],
            "image/png": "[encoded data removed]"
          },
          "metadata": {}
        },
        {
          "output_type": "display_data",
          "data": {
            "text/plain": [
              "<Figure size 600x400 with 1 Axes>"
            ],
            "image/png": "[encoded data removed]"
          },
          "metadata": {}
        }
      ]
    },
    {
      "cell_type": "code",
      "source": [
        "# ---- predicciones de las ventanas del TEST ----\n",
        "probs_test = model.predict(X_test, batch_size=64).ravel()\n",
        "\n",
        "import pandas as pd\n",
        "df_pred = pd.DataFrame({\n",
        "    'pid':  pid_test,\n",
        "    'prob': probs_test,\n",
        "    'true': y_test\n",
        "})\n",
        "\n",
        "# ---- voto por paciente (media de probabilidades) ----\n",
        "patient_prob = df_pred.groupby('pid')['prob'].mean()\n",
        "patient_true = df_pred.groupby('pid')['true'].first()\n",
        "patient_pred = (patient_prob >= 0.5).astype(int)\n",
        "\n",
        "from sklearn.metrics import accuracy_score, confusion_matrix, classification_report\n",
        "\n",
        "acc_pat = accuracy_score(patient_true, patient_pred)\n",
        "print(f\"\\n  Accuracy por paciente (TEST): {acc_pat:.3f}\")\n",
        "\n",
        "cm = confusion_matrix(patient_true, patient_pred)\n",
        "print(\"\\nMatriz de confusión (paciente):\\n\", cm)"
      ],
      "metadata": {
        "colab": {
          "base_uri": "https://localhost:8080/"
        },
        "id": "YSR7DBBsGaUf",
        "outputId": "c9446d86-48b4-432f-da1a-383f99339dbd"
      },
      "execution_count": 22,
      "outputs": [
        {
          "output_type": "stream",
          "name": "stdout",
          "text": [
            "\u001b[1m10/10\u001b[0m \u001b[32m━━━━━━━━━━━━━━━━━━━━\u001b[0m\u001b[37m\u001b[0m \u001b[1m3s\u001b[0m 236ms/step\n",
            "\n",
            "  Accuracy por paciente (TEST): 0.444\n",
            "\n",
            "Matriz de confusión (paciente):\n",
            " [[1 7]\n",
            " [3 7]]\n"
          ]
        }
      ]
    }
  ]
}